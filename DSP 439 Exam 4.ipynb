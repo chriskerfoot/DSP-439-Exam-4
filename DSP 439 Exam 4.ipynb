{
 "cells": [
  {
   "cell_type": "code",
   "execution_count": 1,
   "metadata": {},
   "outputs": [],
   "source": [
    "# Chris Kerfoot\n",
    "# DSP 439\n",
    "# Exam 4\n",
    "# May 11, 2022"
   ]
  },
  {
   "cell_type": "code",
   "execution_count": 1,
   "metadata": {},
   "outputs": [
    {
     "name": "stdout",
     "output_type": "stream",
     "text": [
      "4\n"
     ]
    }
   ],
   "source": [
    "#Imports\n",
    "import pandas as pd\n",
    "import sys\n",
    "#  Define a function to count possible kmers of size k from a string, where k and the string are\n",
    "#  specified as arguments.\n",
    "\n",
    "\n",
    "def possible_kmers(string, k): # function for counting possbile kmers with string and k as the arguments\n",
    "    \n",
    "    '''\n",
    "    Returns the count of possible kmers\n",
    "    \n",
    "        Parameters: string and k\n",
    "    '''\n",
    "    return (min(len(string)-k+1,4**k))\n",
    "\n",
    "# Example\n",
    "output = possible_kmers(\"ATTTGGATT\", 1)\n",
    "print(output)\n"
   ]
  },
  {
   "cell_type": "code",
   "execution_count": 2,
   "metadata": {},
   "outputs": [
    {
     "name": "stdout",
     "output_type": "stream",
     "text": [
      "2\n",
      "6\n"
     ]
    }
   ],
   "source": [
    "#Define a function to count observed kmers of size k from a string, where k and the string are specified as arguments.\n",
    "def observed_kmers(string, k): # function for counting possbile kmers with string and k as the arguments\n",
    "   \n",
    "    ''' Takes in a string and kmer of size k and outputs observed kmers '''\n",
    "    \n",
    "    counts = []\n",
    "    duplicates = []\n",
    "    for i in range( len(string)-k+1):   \n",
    "        kmer = string[i:i+k]\n",
    "#         if kmer not in counts:\n",
    "#             counts[kmer] = 0\n",
    "#             counts[kmer] = counts[kmer] + 1\n",
    "        counts.append(kmer)\n",
    "    # Removes all possible substrings of not length k\n",
    "    for i in range(len(counts)):\n",
    "        if (len(counts[i]) != k ):\n",
    "            counts.popback()\n",
    "    # Compares two lists if the duplicates are not in other list and we append it, otherwise we don't\n",
    "    for i in counts:\n",
    "        if i not in duplicates:\n",
    "            duplicates.append(i)\n",
    "        \n",
    "    return len(duplicates)    \n",
    "\n",
    "\n",
    "#Examples\n",
    "output = observed_kmers(\"ATATATATATATA\", 2)\n",
    "print(output)\n",
    "\n",
    "output2 = observed_kmers(\"ATTTGGATT\",3)\n",
    "print(output2)\n",
    "\n",
    "\n",
    "\n",
    "\n"
   ]
  },
  {
   "cell_type": "code",
   "execution_count": 3,
   "metadata": {
    "scrolled": false
   },
   "outputs": [],
   "source": [
    "# Define a function to create a pandas data frame containing all possible k and the associated\n",
    "# number of observed and expected kmers (see above table).\n",
    "def dataframe(k, observed_kmers, possible_kmers, string):\n",
    "    ''' Returns pandas data frame associated with table in assignment instructions\n",
    "        \n",
    "            Parameters: k, observed_kmers, possible_kmers, string\n",
    "    '''\n",
    "    observed = observed_kmers(string,k)\n",
    "    possible = possible_kmers(string,k)\n",
    "\n",
    "# dictionary with values of the dataframe\n",
    "    dict = {'k': k,'Observed Kmers' : observed_kmers, \"Possible kmers\": possible_kmers}\n",
    "    df = pd.DataFrame(dict)\n",
    "    return (df)\n",
    "\n",
    "# This function did not throw any errors but I could not figure out how to get the dataframe to appear\n",
    "\n"
   ]
  },
  {
   "cell_type": "code",
   "execution_count": 52,
   "metadata": {},
   "outputs": [
    {
     "data": {
      "text/plain": [
       "0.875"
      ]
     },
     "execution_count": 52,
     "metadata": {},
     "output_type": "execute_result"
    }
   ],
   "source": [
    "# Define a function to calculate linguistic complexity\n",
    "def linguistic_complexity(string,k):\n",
    "    ''' Returns linguistic complexity which is observed/possible\n",
    "    \n",
    "            Parameters: string and k\n",
    "            Returns: linguistic complexity of string \"ATTTGGATT\" and k = 9\n",
    "    '''\n",
    "    \n",
    "    numerator = 0\n",
    "    denominator = 0\n",
    "    \n",
    "    for i in range (0,k):\n",
    "        output = possible_kmers(string,i)\n",
    "        output_2 = observed_kmers(string,i)\n",
    "        numerator += output_2\n",
    "        denominator += output\n",
    "    complexity = numerator/denominator\n",
    "    return complexity\n",
    "\n",
    "linguistic_complexity(\"ATTTGGATT\",9)"
   ]
  }
 ],
 "metadata": {
  "kernelspec": {
   "display_name": "Python 3",
   "language": "python",
   "name": "python3"
  },
  "language_info": {
   "codemirror_mode": {
    "name": "ipython",
    "version": 3
   },
   "file_extension": ".py",
   "mimetype": "text/x-python",
   "name": "python",
   "nbconvert_exporter": "python",
   "pygments_lexer": "ipython3",
   "version": "3.8.5"
  }
 },
 "nbformat": 4,
 "nbformat_minor": 4
}
